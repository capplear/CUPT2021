{
 "cells": [
  {
   "cell_type": "code",
   "execution_count": 2,
   "metadata": {},
   "outputs": [
    {
     "name": "stdout",
     "output_type": "stream",
     "text": [
      "number of processors: 12\n"
     ]
    }
   ],
   "source": [
    "from diffractio import degrees, eps, mm, np, num_max_processors, plt,sp, um\n",
    "from diffractio.scalar_fields_XZ import Scalar_field_XZ\n",
    "from diffractio.scalar_masks_X import Scalar_mask_X\n",
    "from diffractio.scalar_masks_XZ import Scalar_mask_XZ\n",
    "from diffractio.scalar_sources_X import Scalar_source_X\n",
    "from matplotlib import rcParams\n",
    "rcParams['figure.figsize']=[5,5]\n",
    "rcParams['figure.dpi']=75\n",
    "\n",
    "x0 = np.linspace(-200 * um, 200 * um, 512)\n",
    "z0 = np.linspace(-100 * um, 600 * um, 512)\n",
    "wavelength = 0.6238 * um\n",
    "\n",
    "u1 = Scalar_field_XZ(x=x0, z=z0, wavelength=wavelength)\n",
    "\n",
    "#Creating a light source Light sources for XZ propagation are defined in the scalar_sources_x.py module.\n",
    "\n",
    "#Example: plane wave.\n",
    "\n",
    "u0 = Scalar_source_X(x=x0, wavelength=wavelength)\n",
    "u0.plane_wave(A=1, theta=0 * degrees)\n",
    "u1.incident_field(u0)\n",
    "\n",
    "#The light beam can also be placed at any plane in the z scale, not only at the beginning:\n",
    "\n",
    "u1.incident_field(u0, z0=200*um)\n",
    "\n"
   ]
  },
  {
   "cell_type": "code",
   "execution_count": null,
   "metadata": {},
   "outputs": [],
   "source": []
  }
 ],
 "metadata": {
  "kernelspec": {
   "display_name": "Python 3",
   "language": "python",
   "name": "python3"
  },
  "language_info": {
   "codemirror_mode": {
    "name": "ipython",
    "version": 3
   },
   "file_extension": ".py",
   "mimetype": "text/x-python",
   "name": "python",
   "nbconvert_exporter": "python",
   "pygments_lexer": "ipython3",
   "version": "3.8.5"
  }
 },
 "nbformat": 4,
 "nbformat_minor": 4
}
